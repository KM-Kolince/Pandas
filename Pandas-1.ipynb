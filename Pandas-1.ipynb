{
 "cells": [
  {
   "cell_type": "code",
   "execution_count": 2,
   "metadata": {},
   "outputs": [
    {
     "data": {
      "text/html": [
       "<div>\n",
       "<style scoped>\n",
       "    .dataframe tbody tr th:only-of-type {\n",
       "        vertical-align: middle;\n",
       "    }\n",
       "\n",
       "    .dataframe tbody tr th {\n",
       "        vertical-align: top;\n",
       "    }\n",
       "\n",
       "    .dataframe thead th {\n",
       "        text-align: right;\n",
       "    }\n",
       "</style>\n",
       "<table border=\"1\" class=\"dataframe\">\n",
       "  <thead>\n",
       "    <tr style=\"text-align: right;\">\n",
       "      <th></th>\n",
       "      <th>origin</th>\n",
       "      <th>year</th>\n",
       "      <th>month</th>\n",
       "      <th>day</th>\n",
       "      <th>hour</th>\n",
       "      <th>temp</th>\n",
       "      <th>dewp</th>\n",
       "      <th>humid</th>\n",
       "      <th>wind_dir</th>\n",
       "      <th>wind_speed</th>\n",
       "      <th>wind_gust</th>\n",
       "      <th>precip</th>\n",
       "      <th>pressure</th>\n",
       "      <th>visib</th>\n",
       "      <th>time_hour</th>\n",
       "    </tr>\n",
       "  </thead>\n",
       "  <tbody>\n",
       "    <tr>\n",
       "      <th>0</th>\n",
       "      <td>EWR</td>\n",
       "      <td>2013</td>\n",
       "      <td>1</td>\n",
       "      <td>1</td>\n",
       "      <td>1</td>\n",
       "      <td>39.02</td>\n",
       "      <td>26.06</td>\n",
       "      <td>59.37</td>\n",
       "      <td>270.0</td>\n",
       "      <td>10.35702</td>\n",
       "      <td>NaN</td>\n",
       "      <td>0.0</td>\n",
       "      <td>1012.0</td>\n",
       "      <td>10.0</td>\n",
       "      <td>2013-01-01T06:00:00Z</td>\n",
       "    </tr>\n",
       "    <tr>\n",
       "      <th>1</th>\n",
       "      <td>EWR</td>\n",
       "      <td>2013</td>\n",
       "      <td>1</td>\n",
       "      <td>1</td>\n",
       "      <td>2</td>\n",
       "      <td>39.02</td>\n",
       "      <td>26.96</td>\n",
       "      <td>61.63</td>\n",
       "      <td>250.0</td>\n",
       "      <td>8.05546</td>\n",
       "      <td>NaN</td>\n",
       "      <td>0.0</td>\n",
       "      <td>1012.3</td>\n",
       "      <td>10.0</td>\n",
       "      <td>2013-01-01T07:00:00Z</td>\n",
       "    </tr>\n",
       "    <tr>\n",
       "      <th>2</th>\n",
       "      <td>EWR</td>\n",
       "      <td>2013</td>\n",
       "      <td>1</td>\n",
       "      <td>1</td>\n",
       "      <td>3</td>\n",
       "      <td>39.02</td>\n",
       "      <td>28.04</td>\n",
       "      <td>64.43</td>\n",
       "      <td>240.0</td>\n",
       "      <td>11.50780</td>\n",
       "      <td>NaN</td>\n",
       "      <td>0.0</td>\n",
       "      <td>1012.5</td>\n",
       "      <td>10.0</td>\n",
       "      <td>2013-01-01T08:00:00Z</td>\n",
       "    </tr>\n",
       "    <tr>\n",
       "      <th>3</th>\n",
       "      <td>EWR</td>\n",
       "      <td>2013</td>\n",
       "      <td>1</td>\n",
       "      <td>1</td>\n",
       "      <td>4</td>\n",
       "      <td>39.92</td>\n",
       "      <td>28.04</td>\n",
       "      <td>62.21</td>\n",
       "      <td>250.0</td>\n",
       "      <td>12.65858</td>\n",
       "      <td>NaN</td>\n",
       "      <td>0.0</td>\n",
       "      <td>1012.2</td>\n",
       "      <td>10.0</td>\n",
       "      <td>2013-01-01T09:00:00Z</td>\n",
       "    </tr>\n",
       "    <tr>\n",
       "      <th>4</th>\n",
       "      <td>EWR</td>\n",
       "      <td>2013</td>\n",
       "      <td>1</td>\n",
       "      <td>1</td>\n",
       "      <td>5</td>\n",
       "      <td>39.02</td>\n",
       "      <td>28.04</td>\n",
       "      <td>64.43</td>\n",
       "      <td>260.0</td>\n",
       "      <td>12.65858</td>\n",
       "      <td>NaN</td>\n",
       "      <td>0.0</td>\n",
       "      <td>1011.9</td>\n",
       "      <td>10.0</td>\n",
       "      <td>2013-01-01T10:00:00Z</td>\n",
       "    </tr>\n",
       "    <tr>\n",
       "      <th>...</th>\n",
       "      <td>...</td>\n",
       "      <td>...</td>\n",
       "      <td>...</td>\n",
       "      <td>...</td>\n",
       "      <td>...</td>\n",
       "      <td>...</td>\n",
       "      <td>...</td>\n",
       "      <td>...</td>\n",
       "      <td>...</td>\n",
       "      <td>...</td>\n",
       "      <td>...</td>\n",
       "      <td>...</td>\n",
       "      <td>...</td>\n",
       "      <td>...</td>\n",
       "      <td>...</td>\n",
       "    </tr>\n",
       "    <tr>\n",
       "      <th>26110</th>\n",
       "      <td>LGA</td>\n",
       "      <td>2013</td>\n",
       "      <td>12</td>\n",
       "      <td>30</td>\n",
       "      <td>14</td>\n",
       "      <td>35.96</td>\n",
       "      <td>19.94</td>\n",
       "      <td>51.78</td>\n",
       "      <td>340.0</td>\n",
       "      <td>13.80936</td>\n",
       "      <td>21.86482</td>\n",
       "      <td>0.0</td>\n",
       "      <td>1017.1</td>\n",
       "      <td>10.0</td>\n",
       "      <td>2013-12-30T19:00:00Z</td>\n",
       "    </tr>\n",
       "    <tr>\n",
       "      <th>26111</th>\n",
       "      <td>LGA</td>\n",
       "      <td>2013</td>\n",
       "      <td>12</td>\n",
       "      <td>30</td>\n",
       "      <td>15</td>\n",
       "      <td>33.98</td>\n",
       "      <td>17.06</td>\n",
       "      <td>49.51</td>\n",
       "      <td>330.0</td>\n",
       "      <td>17.26170</td>\n",
       "      <td>21.86482</td>\n",
       "      <td>0.0</td>\n",
       "      <td>1018.8</td>\n",
       "      <td>10.0</td>\n",
       "      <td>2013-12-30T20:00:00Z</td>\n",
       "    </tr>\n",
       "    <tr>\n",
       "      <th>26112</th>\n",
       "      <td>LGA</td>\n",
       "      <td>2013</td>\n",
       "      <td>12</td>\n",
       "      <td>30</td>\n",
       "      <td>16</td>\n",
       "      <td>32.00</td>\n",
       "      <td>15.08</td>\n",
       "      <td>49.19</td>\n",
       "      <td>340.0</td>\n",
       "      <td>14.96014</td>\n",
       "      <td>23.01560</td>\n",
       "      <td>0.0</td>\n",
       "      <td>1019.5</td>\n",
       "      <td>10.0</td>\n",
       "      <td>2013-12-30T21:00:00Z</td>\n",
       "    </tr>\n",
       "    <tr>\n",
       "      <th>26113</th>\n",
       "      <td>LGA</td>\n",
       "      <td>2013</td>\n",
       "      <td>12</td>\n",
       "      <td>30</td>\n",
       "      <td>17</td>\n",
       "      <td>30.92</td>\n",
       "      <td>12.92</td>\n",
       "      <td>46.74</td>\n",
       "      <td>320.0</td>\n",
       "      <td>17.26170</td>\n",
       "      <td>NaN</td>\n",
       "      <td>0.0</td>\n",
       "      <td>1019.9</td>\n",
       "      <td>10.0</td>\n",
       "      <td>2013-12-30T22:00:00Z</td>\n",
       "    </tr>\n",
       "    <tr>\n",
       "      <th>26114</th>\n",
       "      <td>LGA</td>\n",
       "      <td>2013</td>\n",
       "      <td>12</td>\n",
       "      <td>30</td>\n",
       "      <td>18</td>\n",
       "      <td>28.94</td>\n",
       "      <td>10.94</td>\n",
       "      <td>46.41</td>\n",
       "      <td>330.0</td>\n",
       "      <td>18.41248</td>\n",
       "      <td>NaN</td>\n",
       "      <td>0.0</td>\n",
       "      <td>1020.9</td>\n",
       "      <td>10.0</td>\n",
       "      <td>2013-12-30T23:00:00Z</td>\n",
       "    </tr>\n",
       "  </tbody>\n",
       "</table>\n",
       "<p>26115 rows × 15 columns</p>\n",
       "</div>"
      ],
      "text/plain": [
       "      origin  year  month  day  hour   temp   dewp  humid  wind_dir  \\\n",
       "0        EWR  2013      1    1     1  39.02  26.06  59.37     270.0   \n",
       "1        EWR  2013      1    1     2  39.02  26.96  61.63     250.0   \n",
       "2        EWR  2013      1    1     3  39.02  28.04  64.43     240.0   \n",
       "3        EWR  2013      1    1     4  39.92  28.04  62.21     250.0   \n",
       "4        EWR  2013      1    1     5  39.02  28.04  64.43     260.0   \n",
       "...      ...   ...    ...  ...   ...    ...    ...    ...       ...   \n",
       "26110    LGA  2013     12   30    14  35.96  19.94  51.78     340.0   \n",
       "26111    LGA  2013     12   30    15  33.98  17.06  49.51     330.0   \n",
       "26112    LGA  2013     12   30    16  32.00  15.08  49.19     340.0   \n",
       "26113    LGA  2013     12   30    17  30.92  12.92  46.74     320.0   \n",
       "26114    LGA  2013     12   30    18  28.94  10.94  46.41     330.0   \n",
       "\n",
       "       wind_speed  wind_gust  precip  pressure  visib             time_hour  \n",
       "0        10.35702        NaN     0.0    1012.0   10.0  2013-01-01T06:00:00Z  \n",
       "1         8.05546        NaN     0.0    1012.3   10.0  2013-01-01T07:00:00Z  \n",
       "2        11.50780        NaN     0.0    1012.5   10.0  2013-01-01T08:00:00Z  \n",
       "3        12.65858        NaN     0.0    1012.2   10.0  2013-01-01T09:00:00Z  \n",
       "4        12.65858        NaN     0.0    1011.9   10.0  2013-01-01T10:00:00Z  \n",
       "...           ...        ...     ...       ...    ...                   ...  \n",
       "26110    13.80936   21.86482     0.0    1017.1   10.0  2013-12-30T19:00:00Z  \n",
       "26111    17.26170   21.86482     0.0    1018.8   10.0  2013-12-30T20:00:00Z  \n",
       "26112    14.96014   23.01560     0.0    1019.5   10.0  2013-12-30T21:00:00Z  \n",
       "26113    17.26170        NaN     0.0    1019.9   10.0  2013-12-30T22:00:00Z  \n",
       "26114    18.41248        NaN     0.0    1020.9   10.0  2013-12-30T23:00:00Z  \n",
       "\n",
       "[26115 rows x 15 columns]"
      ]
     },
     "execution_count": 2,
     "metadata": {},
     "output_type": "execute_result"
    }
   ],
   "source": [
    "import pandas as pd\n",
    "\n",
    "df= pd.read_csv(r'D:\\Franklin\\Study Materials\\Data-611\\Jupyter\\nyc_weather.csv')\n",
    "df"
   ]
  },
  {
   "cell_type": "code",
   "execution_count": 3,
   "metadata": {},
   "outputs": [
    {
     "data": {
      "text/plain": [
       "100.04"
      ]
     },
     "execution_count": 3,
     "metadata": {},
     "output_type": "execute_result"
    }
   ],
   "source": [
    "df['temp'].max()"
   ]
  },
  {
   "cell_type": "code",
   "execution_count": 4,
   "metadata": {},
   "outputs": [
    {
     "data": {
      "text/plain": [
       "100.04"
      ]
     },
     "execution_count": 4,
     "metadata": {},
     "output_type": "execute_result"
    }
   ],
   "source": [
    "df.temp.max()"
   ]
  },
  {
   "cell_type": "code",
   "execution_count": 5,
   "metadata": {},
   "outputs": [
    {
     "data": {
      "text/plain": [
       "17409    2013-01-01T06:00:00Z\n",
       "17410    2013-01-01T07:00:00Z\n",
       "17411    2013-01-01T08:00:00Z\n",
       "17412    2013-01-01T09:00:00Z\n",
       "17413    2013-01-01T10:00:00Z\n",
       "                 ...         \n",
       "26110    2013-12-30T19:00:00Z\n",
       "26111    2013-12-30T20:00:00Z\n",
       "26112    2013-12-30T21:00:00Z\n",
       "26113    2013-12-30T22:00:00Z\n",
       "26114    2013-12-30T23:00:00Z\n",
       "Name: time_hour, Length: 8706, dtype: object"
      ]
     },
     "execution_count": 5,
     "metadata": {},
     "output_type": "execute_result"
    }
   ],
   "source": [
    "df['time_hour'][df['origin']=='LGA']"
   ]
  },
  {
   "cell_type": "code",
   "execution_count": 7,
   "metadata": {},
   "outputs": [
    {
     "data": {
      "text/plain": [
       "17409    2013-01-01T06:00:00Z\n",
       "17410    2013-01-01T07:00:00Z\n",
       "17411    2013-01-01T08:00:00Z\n",
       "17412    2013-01-01T09:00:00Z\n",
       "17413    2013-01-01T10:00:00Z\n",
       "                 ...         \n",
       "26110    2013-12-30T19:00:00Z\n",
       "26111    2013-12-30T20:00:00Z\n",
       "26112    2013-12-30T21:00:00Z\n",
       "26113    2013-12-30T22:00:00Z\n",
       "26114    2013-12-30T23:00:00Z\n",
       "Name: time_hour, Length: 8706, dtype: object"
      ]
     },
     "execution_count": 7,
     "metadata": {},
     "output_type": "execute_result"
    }
   ],
   "source": [
    "df.time_hour[df.origin=='LGA']"
   ]
  },
  {
   "cell_type": "code",
   "execution_count": 11,
   "metadata": {},
   "outputs": [
    {
     "data": {
      "text/plain": [
       "origin            0\n",
       "year              0\n",
       "month             0\n",
       "day               0\n",
       "hour              0\n",
       "temp              1\n",
       "dewp              1\n",
       "humid             1\n",
       "wind_dir        460\n",
       "wind_speed        4\n",
       "wind_gust     20778\n",
       "precip            0\n",
       "pressure       2729\n",
       "visib             0\n",
       "time_hour         0\n",
       "dtype: int64"
      ]
     },
     "execution_count": 11,
     "metadata": {},
     "output_type": "execute_result"
    }
   ],
   "source": [
    "df.isnull().sum()"
   ]
  },
  {
   "cell_type": "code",
   "execution_count": 12,
   "metadata": {},
   "outputs": [],
   "source": [
    "df.wind_speed.fillna(0, inplace=True)"
   ]
  },
  {
   "cell_type": "code",
   "execution_count": 13,
   "metadata": {},
   "outputs": [
    {
     "data": {
      "text/plain": [
       "origin            0\n",
       "year              0\n",
       "month             0\n",
       "day               0\n",
       "hour              0\n",
       "temp              1\n",
       "dewp              1\n",
       "humid             1\n",
       "wind_dir        460\n",
       "wind_speed        0\n",
       "wind_gust     20778\n",
       "precip            0\n",
       "pressure       2729\n",
       "visib             0\n",
       "time_hour         0\n",
       "dtype: int64"
      ]
     },
     "execution_count": 13,
     "metadata": {},
     "output_type": "execute_result"
    }
   ],
   "source": [
    "df.isnull().sum()"
   ]
  },
  {
   "cell_type": "code",
   "execution_count": 14,
   "metadata": {},
   "outputs": [
    {
     "data": {
      "text/plain": [
       "10.515877434425876"
      ]
     },
     "execution_count": 14,
     "metadata": {},
     "output_type": "execute_result"
    }
   ],
   "source": [
    "df['wind_speed'].mean()"
   ]
  },
  {
   "cell_type": "code",
   "execution_count": 15,
   "metadata": {},
   "outputs": [
    {
     "data": {
      "text/plain": [
       "10.515877434425876"
      ]
     },
     "execution_count": 15,
     "metadata": {},
     "output_type": "execute_result"
    }
   ],
   "source": [
    "df.wind_speed.mean()"
   ]
  }
 ],
 "metadata": {
  "kernelspec": {
   "display_name": "Python 3",
   "language": "python",
   "name": "python3"
  },
  "language_info": {
   "codemirror_mode": {
    "name": "ipython",
    "version": 3
   },
   "file_extension": ".py",
   "mimetype": "text/x-python",
   "name": "python",
   "nbconvert_exporter": "python",
   "pygments_lexer": "ipython3",
   "version": "3.8.3"
  }
 },
 "nbformat": 4,
 "nbformat_minor": 4
}
